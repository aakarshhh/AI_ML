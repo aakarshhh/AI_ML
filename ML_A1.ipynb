{
  "nbformat": 4,
  "nbformat_minor": 0,
  "metadata": {
    "colab": {
      "name": "ML_A1",
      "provenance": [],
      "authorship_tag": "ABX9TyNJQBJt+I/Z5+FoKCtMHF92",
      "include_colab_link": true
    },
    "kernelspec": {
      "name": "python3",
      "display_name": "Python 3"
    },
    "language_info": {
      "name": "python"
    }
  },
  "cells": [
    {
      "cell_type": "markdown",
      "metadata": {
        "id": "view-in-github",
        "colab_type": "text"
      },
      "source": [
        "<a href=\"https://colab.research.google.com/github/aakarshhh/AI_ML/blob/main/ML_A1.ipynb\" target=\"_parent\"><img src=\"https://colab.research.google.com/assets/colab-badge.svg\" alt=\"Open In Colab\"/></a>"
      ]
    },
    {
      "cell_type": "code",
      "metadata": {
        "id": "yrk4xzH15uBp"
      },
      "source": [
        "from sklearn.metrics import silhouette_score as sc , davies_bouldin_score as db\n",
        "from sklearn.cluster import KMeans\n",
        "import pandas as pd \n",
        "import numpy as np "
      ],
      "execution_count": 29,
      "outputs": []
    },
    {
      "cell_type": "code",
      "metadata": {
        "colab": {
          "base_uri": "https://localhost:8080/"
        },
        "id": "_TTQSzhuJWmj",
        "outputId": "fd5f0e1c-1a84-4325-d833-18e1ecfc1ae2"
      },
      "source": [
        "km = KMeans(n_clusters= 2 , random_state= 2 ).fit(df)\n",
        "s = sc(df , km.labels_ )\n",
        "d = db(df , km.labels_)\n",
        "s , d"
      ],
      "execution_count": 39,
      "outputs": [
        {
          "output_type": "execute_result",
          "data": {
            "text/plain": [
              "(0.7986599090562789, 0.8182646479157656)"
            ]
          },
          "metadata": {
            "tags": []
          },
          "execution_count": 39
        }
      ]
    },
    {
      "cell_type": "code",
      "metadata": {
        "colab": {
          "base_uri": "https://localhost:8080/"
        },
        "id": "6b0LEowoK6U6",
        "outputId": "da77e9a5-7673-49a8-8b9f-501e56d50a88"
      },
      "source": [
        "df = pd.read_csv('/content/3.csv',header=None)\n",
        "df = np.array(df)[:,0:-1]\n",
        "cluster = [2,3,4,5,6,7,8,9,10]\n",
        "a = np.zeros(shape= (len(cluster) , 2))\n",
        "for n in cluster :\n",
        "  km = KMeans(n_clusters= n , random_state= 2 ).fit(df)\n",
        "  a[n-2 , 0] = sc( df , km.labels_ )\n",
        "  a[n-2 , 1] = db( df , km.labels_ )\n",
        "a"
      ],
      "execution_count": 64,
      "outputs": [
        {
          "output_type": "execute_result",
          "data": {
            "text/plain": [
              "array([[0.80359723, 0.67363633],\n",
              "       [0.76684327, 0.66407952],\n",
              "       [0.74429669, 0.51215481],\n",
              "       [0.56462612, 0.64514003],\n",
              "       [0.56338342, 0.56069992],\n",
              "       [0.55868502, 0.52994159],\n",
              "       [0.54911973, 0.46126339],\n",
              "       [0.54286217, 0.55627796],\n",
              "       [0.54145714, 0.49823534]])"
            ]
          },
          "metadata": {
            "tags": []
          },
          "execution_count": 64
        }
      ]
    }
  ]
}