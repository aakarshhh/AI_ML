{
  "nbformat": 4,
  "nbformat_minor": 0,
  "metadata": {
    "colab": {
      "name": "PyTorch Tutorial.ipynb",
      "provenance": [],
      "collapsed_sections": [],
      "include_colab_link": true
    },
    "kernelspec": {
      "name": "python3",
      "display_name": "Python 3"
    },
    "widgets": {
      "application/vnd.jupyter.widget-state+json": {
        "794a8642929c454d912b74b2127412eb": {
          "model_module": "@jupyter-widgets/controls",
          "model_name": "HBoxModel",
          "model_module_version": "1.5.0",
          "state": {
            "_view_name": "HBoxView",
            "_dom_classes": [],
            "_model_name": "HBoxModel",
            "_view_module": "@jupyter-widgets/controls",
            "_model_module_version": "1.5.0",
            "_view_count": null,
            "_view_module_version": "1.5.0",
            "box_style": "",
            "layout": "IPY_MODEL_850adb260dff45b2986707b5b9d8409a",
            "_model_module": "@jupyter-widgets/controls",
            "children": [
              "IPY_MODEL_b653735c490841918e947d4954dabcb3",
              "IPY_MODEL_6ef9224f7b0746ee9c96aea99bf649ed"
            ]
          }
        },
        "850adb260dff45b2986707b5b9d8409a": {
          "model_module": "@jupyter-widgets/base",
          "model_name": "LayoutModel",
          "model_module_version": "1.2.0",
          "state": {
            "_view_name": "LayoutView",
            "grid_template_rows": null,
            "right": null,
            "justify_content": null,
            "_view_module": "@jupyter-widgets/base",
            "overflow": null,
            "_model_module_version": "1.2.0",
            "_view_count": null,
            "flex_flow": null,
            "width": null,
            "min_width": null,
            "border": null,
            "align_items": null,
            "bottom": null,
            "_model_module": "@jupyter-widgets/base",
            "top": null,
            "grid_column": null,
            "overflow_y": null,
            "overflow_x": null,
            "grid_auto_flow": null,
            "grid_area": null,
            "grid_template_columns": null,
            "flex": null,
            "_model_name": "LayoutModel",
            "justify_items": null,
            "grid_row": null,
            "max_height": null,
            "align_content": null,
            "visibility": null,
            "align_self": null,
            "height": null,
            "min_height": null,
            "padding": null,
            "grid_auto_rows": null,
            "grid_gap": null,
            "max_width": null,
            "order": null,
            "_view_module_version": "1.2.0",
            "grid_template_areas": null,
            "object_position": null,
            "object_fit": null,
            "grid_auto_columns": null,
            "margin": null,
            "display": null,
            "left": null
          }
        },
        "b653735c490841918e947d4954dabcb3": {
          "model_module": "@jupyter-widgets/controls",
          "model_name": "FloatProgressModel",
          "model_module_version": "1.5.0",
          "state": {
            "_view_name": "ProgressView",
            "style": "IPY_MODEL_f13fc83990e543c08333d2a3ab076dbf",
            "_dom_classes": [],
            "description": "",
            "_model_name": "FloatProgressModel",
            "bar_style": "info",
            "max": 1,
            "_view_module": "@jupyter-widgets/controls",
            "_model_module_version": "1.5.0",
            "value": 1,
            "_view_count": null,
            "_view_module_version": "1.5.0",
            "orientation": "horizontal",
            "min": 0,
            "description_tooltip": null,
            "_model_module": "@jupyter-widgets/controls",
            "layout": "IPY_MODEL_38d35bdccea34ff08427ee40dea42952"
          }
        },
        "6ef9224f7b0746ee9c96aea99bf649ed": {
          "model_module": "@jupyter-widgets/controls",
          "model_name": "HTMLModel",
          "model_module_version": "1.5.0",
          "state": {
            "_view_name": "HTMLView",
            "style": "IPY_MODEL_5b3075f560e745829168a16310ac38e9",
            "_dom_classes": [],
            "description": "",
            "_model_name": "HTMLModel",
            "placeholder": "​",
            "_view_module": "@jupyter-widgets/controls",
            "_model_module_version": "1.5.0",
            "value": " 170500096/? [00:20&lt;00:00, 32799207.29it/s]",
            "_view_count": null,
            "_view_module_version": "1.5.0",
            "description_tooltip": null,
            "_model_module": "@jupyter-widgets/controls",
            "layout": "IPY_MODEL_f8735d021d0143158607d06d1ee13976"
          }
        },
        "f13fc83990e543c08333d2a3ab076dbf": {
          "model_module": "@jupyter-widgets/controls",
          "model_name": "ProgressStyleModel",
          "model_module_version": "1.5.0",
          "state": {
            "_view_name": "StyleView",
            "_model_name": "ProgressStyleModel",
            "description_width": "initial",
            "_view_module": "@jupyter-widgets/base",
            "_model_module_version": "1.5.0",
            "_view_count": null,
            "_view_module_version": "1.2.0",
            "bar_color": null,
            "_model_module": "@jupyter-widgets/controls"
          }
        },
        "38d35bdccea34ff08427ee40dea42952": {
          "model_module": "@jupyter-widgets/base",
          "model_name": "LayoutModel",
          "model_module_version": "1.2.0",
          "state": {
            "_view_name": "LayoutView",
            "grid_template_rows": null,
            "right": null,
            "justify_content": null,
            "_view_module": "@jupyter-widgets/base",
            "overflow": null,
            "_model_module_version": "1.2.0",
            "_view_count": null,
            "flex_flow": null,
            "width": null,
            "min_width": null,
            "border": null,
            "align_items": null,
            "bottom": null,
            "_model_module": "@jupyter-widgets/base",
            "top": null,
            "grid_column": null,
            "overflow_y": null,
            "overflow_x": null,
            "grid_auto_flow": null,
            "grid_area": null,
            "grid_template_columns": null,
            "flex": null,
            "_model_name": "LayoutModel",
            "justify_items": null,
            "grid_row": null,
            "max_height": null,
            "align_content": null,
            "visibility": null,
            "align_self": null,
            "height": null,
            "min_height": null,
            "padding": null,
            "grid_auto_rows": null,
            "grid_gap": null,
            "max_width": null,
            "order": null,
            "_view_module_version": "1.2.0",
            "grid_template_areas": null,
            "object_position": null,
            "object_fit": null,
            "grid_auto_columns": null,
            "margin": null,
            "display": null,
            "left": null
          }
        },
        "5b3075f560e745829168a16310ac38e9": {
          "model_module": "@jupyter-widgets/controls",
          "model_name": "DescriptionStyleModel",
          "model_module_version": "1.5.0",
          "state": {
            "_view_name": "StyleView",
            "_model_name": "DescriptionStyleModel",
            "description_width": "",
            "_view_module": "@jupyter-widgets/base",
            "_model_module_version": "1.5.0",
            "_view_count": null,
            "_view_module_version": "1.2.0",
            "_model_module": "@jupyter-widgets/controls"
          }
        },
        "f8735d021d0143158607d06d1ee13976": {
          "model_module": "@jupyter-widgets/base",
          "model_name": "LayoutModel",
          "model_module_version": "1.2.0",
          "state": {
            "_view_name": "LayoutView",
            "grid_template_rows": null,
            "right": null,
            "justify_content": null,
            "_view_module": "@jupyter-widgets/base",
            "overflow": null,
            "_model_module_version": "1.2.0",
            "_view_count": null,
            "flex_flow": null,
            "width": null,
            "min_width": null,
            "border": null,
            "align_items": null,
            "bottom": null,
            "_model_module": "@jupyter-widgets/base",
            "top": null,
            "grid_column": null,
            "overflow_y": null,
            "overflow_x": null,
            "grid_auto_flow": null,
            "grid_area": null,
            "grid_template_columns": null,
            "flex": null,
            "_model_name": "LayoutModel",
            "justify_items": null,
            "grid_row": null,
            "max_height": null,
            "align_content": null,
            "visibility": null,
            "align_self": null,
            "height": null,
            "min_height": null,
            "padding": null,
            "grid_auto_rows": null,
            "grid_gap": null,
            "max_width": null,
            "order": null,
            "_view_module_version": "1.2.0",
            "grid_template_areas": null,
            "object_position": null,
            "object_fit": null,
            "grid_auto_columns": null,
            "margin": null,
            "display": null,
            "left": null
          }
        }
      }
    },
    "accelerator": "GPU"
  },
  "cells": [
    {
      "cell_type": "markdown",
      "metadata": {
        "id": "view-in-github",
        "colab_type": "text"
      },
      "source": [
        "<a href=\"https://colab.research.google.com/github/aakarshhh/AI_ML/blob/main/PyTorch_Tutorial.ipynb\" target=\"_parent\"><img src=\"https://colab.research.google.com/assets/colab-badge.svg\" alt=\"Open In Colab\"/></a>"
      ]
    },
    {
      "cell_type": "markdown",
      "metadata": {
        "id": "mshWSLFyz9Vi"
      },
      "source": [
        "#PyTorch Tutorial (Beginner)"
      ]
    },
    {
      "cell_type": "markdown",
      "metadata": {
        "id": "Al571dUiqiUu"
      },
      "source": [
        "## Prerequisites:\n",
        "This tutorial assumes that you already have atleast beginner level of experience with the things below. \n",
        " - Python ([freeCodeCamp Crash Course](https://www.youtube.com/watch?v=LHBE6Q9XlzI), [Videos by Sentdex](https://www.youtube.com/playlist?list=PLQVvvaa0QuDeAams7fkdcwOGBpGdHpXln))\n",
        " - NumPy ([freeCodeCamp Crash Course](https://www.freecodecamp.org/news/numpy-crash-course-build-powerful-n-d-arrays-with-numpy/) & its corresponding [colab notebook](https://colab.research.google.com/drive/1Oa8J_sZXACQJEiMqANIHkftMgUrqSpVt#scrollTo=ITrCTnT6RkWP))\n",
        "\n"
      ]
    },
    {
      "cell_type": "markdown",
      "metadata": {
        "id": "V9FI7HqDqmuJ"
      },
      "source": [
        "## Installation:\n",
        "Throughout this course, we wont be doing any heavy computations, so its better to stick to Google Colab as every possible library you will need will come pre-installed. \n",
        "\n",
        "If you still wish to try and install it locally, kindly refer to the links below that have some of best the explanations for beginners:\n",
        "- [Pytorch (Official)](https://pytorch.org/get-started/locally/)\n",
        "- [Article by JournalDev (CPU only, Linux/Windows/MacOS)](https://www.journaldev.com/35965/pytorch-installation)\n",
        "- [Article by DeepLizard (A bit old)](https://deeplizard.com/learn/video/UWlFM0R_x6I)\n",
        "\n",
        "Again, if the instructions in the above links look like gibbersh, we strongly recommend you to stick with Google Colab atleast until you get familarized with it."
      ]
    },
    {
      "cell_type": "markdown",
      "metadata": {
        "id": "yoX4l7DxyZIk"
      },
      "source": [
        "## Contents of this tutorial\n",
        "- Parallels between PyTorch and NumPy\n",
        "- How to train a model?\n",
        "- Things to keep in mind\n"
      ]
    },
    {
      "cell_type": "markdown",
      "metadata": {
        "id": "L-S2blgK0R4U"
      },
      "source": [
        "# Parallels between PyTorch and NumPy\n"
      ]
    },
    {
      "cell_type": "code",
      "metadata": {
        "colab": {
          "base_uri": "https://localhost:8080/"
        },
        "id": "fgSkhjqA2oQK",
        "outputId": "7dc6c58f-83ca-488c-e28a-94b3e5f9775a"
      },
      "source": [
        "import numpy as np\n",
        "\n",
        "print(\"NumPy\")\n",
        "print(\"===========\")\n",
        "print(np.mean([1.0, 3.0]))\n",
        "print(np.sum([1.0, 3.0]))\n",
        "print(np.exp([1.0, 3.0]))"
      ],
      "execution_count": null,
      "outputs": [
        {
          "output_type": "stream",
          "text": [
            "NumPy\n",
            "===========\n",
            "2.0\n",
            "4.0\n",
            "[ 2.71828183 20.08553692]\n"
          ],
          "name": "stdout"
        }
      ]
    },
    {
      "cell_type": "code",
      "metadata": {
        "colab": {
          "base_uri": "https://localhost:8080/"
        },
        "id": "tFFGglC-DQsZ",
        "outputId": "b6b3983d-a24b-484c-8dd8-83dfe8a469fa"
      },
      "source": [
        "import torch\n",
        "\n",
        "print(\"PyTorch\")\n",
        "print(\"===========\")\n",
        "print(torch.mean(torch.tensor([1.0, 3.0])))\n",
        "print(torch.sum(torch.tensor([1.0, 3.0])))\n",
        "print(torch.exp(torch.tensor([1.0, 3.0])))"
      ],
      "execution_count": null,
      "outputs": [
        {
          "output_type": "stream",
          "text": [
            "PyTorch\n",
            "===========\n",
            "tensor(2.)\n",
            "tensor(4.)\n",
            "tensor([ 2.7183, 20.0855])\n"
          ],
          "name": "stdout"
        }
      ]
    },
    {
      "cell_type": "code",
      "metadata": {
        "colab": {
          "base_uri": "https://localhost:8080/"
        },
        "id": "Hs6UyTpkDX1P",
        "outputId": "ed36ac5c-f4a9-4103-ee74-77dea5296d7c"
      },
      "source": [
        "print(\"NumPy\")\n",
        "print(\"===========\")\n",
        "x_np = np.array([1.0,3.0])\n",
        "print(x_np.mean())\n",
        "print(x_np.sum())\n",
        "\n",
        "print(\"\\nPyTorch\")\n",
        "print(\"===========\")\n",
        "x_pt = torch.tensor([1.0,3.0])\n",
        "print(x_pt.mean())\n",
        "print(x_pt.sum())"
      ],
      "execution_count": null,
      "outputs": [
        {
          "output_type": "stream",
          "text": [
            "NumPy\n",
            "===========\n",
            "2.0\n",
            "4.0\n",
            "\n",
            "PyTorch\n",
            "===========\n",
            "tensor(2.)\n",
            "tensor(4.)\n"
          ],
          "name": "stdout"
        }
      ]
    },
    {
      "cell_type": "code",
      "metadata": {
        "colab": {
          "base_uri": "https://localhost:8080/"
        },
        "id": "O9FlchuOHoHz",
        "outputId": "1c23acb2-b7db-4b58-ae8a-3e152f162c23"
      },
      "source": [
        "print(\"NumPy\")\n",
        "print(\"===========\")\n",
        "print(np.random.rand(5))\n",
        "\n",
        "print(\"\\nPyTorch\")\n",
        "print(\"===========\")\n",
        "print(torch.rand(5))"
      ],
      "execution_count": null,
      "outputs": [
        {
          "output_type": "stream",
          "text": [
            "NumPy\n",
            "===========\n",
            "[0.82565812 0.60084822 0.42939775 0.32658846 0.82588313]\n",
            "\n",
            "PyTorch\n",
            "===========\n",
            "tensor([0.5673, 0.3558, 0.5948, 0.4870, 0.2285])\n"
          ],
          "name": "stdout"
        }
      ]
    },
    {
      "cell_type": "markdown",
      "metadata": {
        "id": "dQYiU-a_W2a8"
      },
      "source": [
        "# Numpy Bridge"
      ]
    },
    {
      "cell_type": "code",
      "metadata": {
        "id": "4fSUyZF05ukz"
      },
      "source": [
        "narr = np.arange(0, 9).reshape(3, 3).astype(np.float)"
      ],
      "execution_count": null,
      "outputs": []
    },
    {
      "cell_type": "code",
      "metadata": {
        "id": "R4bc-b-06FOp",
        "colab": {
          "base_uri": "https://localhost:8080/"
        },
        "outputId": "3ec612c7-7d6b-4ef6-c32c-cc850e962dce"
      },
      "source": [
        "narr"
      ],
      "execution_count": null,
      "outputs": [
        {
          "output_type": "execute_result",
          "data": {
            "text/plain": [
              "array([[0., 1., 2.],\n",
              "       [3., 4., 5.],\n",
              "       [6., 7., 8.]])"
            ]
          },
          "metadata": {
            "tags": []
          },
          "execution_count": 8
        }
      ]
    },
    {
      "cell_type": "code",
      "metadata": {
        "id": "hRAGWGkR5v1K"
      },
      "source": [
        "t1 = torch.from_numpy(narr)"
      ],
      "execution_count": null,
      "outputs": []
    },
    {
      "cell_type": "code",
      "metadata": {
        "id": "ZnAGlniP6GNX",
        "colab": {
          "base_uri": "https://localhost:8080/"
        },
        "outputId": "1a08f609-ac2c-4a04-f7cb-2d871de4d0ed"
      },
      "source": [
        "t1"
      ],
      "execution_count": null,
      "outputs": [
        {
          "output_type": "execute_result",
          "data": {
            "text/plain": [
              "tensor([[0., 1., 2.],\n",
              "        [3., 4., 5.],\n",
              "        [6., 7., 8.]], dtype=torch.float64)"
            ]
          },
          "metadata": {
            "tags": []
          },
          "execution_count": 10
        }
      ]
    },
    {
      "cell_type": "code",
      "metadata": {
        "id": "12cioeAk5v3-"
      },
      "source": [
        "t2 = t1.view(1, 9)"
      ],
      "execution_count": null,
      "outputs": []
    },
    {
      "cell_type": "code",
      "metadata": {
        "id": "QfQUe5df5v7A",
        "colab": {
          "base_uri": "https://localhost:8080/"
        },
        "outputId": "e6dd21a0-9cc8-4a06-dde6-c812901aa063"
      },
      "source": [
        "t2"
      ],
      "execution_count": null,
      "outputs": [
        {
          "output_type": "execute_result",
          "data": {
            "text/plain": [
              "tensor([[0., 1., 2., 3., 4., 5., 6., 7., 8.]], dtype=torch.float64)"
            ]
          },
          "metadata": {
            "tags": []
          },
          "execution_count": 12
        }
      ]
    },
    {
      "cell_type": "code",
      "metadata": {
        "id": "q3XEHvkg6Iwl",
        "colab": {
          "base_uri": "https://localhost:8080/"
        },
        "outputId": "c3c60913-6315-4ba1-ef94-98844cc4eb5d"
      },
      "source": [
        "narr *= 2\n",
        "narr"
      ],
      "execution_count": null,
      "outputs": [
        {
          "output_type": "execute_result",
          "data": {
            "text/plain": [
              "array([[ 0.,  2.,  4.],\n",
              "       [ 6.,  8., 10.],\n",
              "       [12., 14., 16.]])"
            ]
          },
          "metadata": {
            "tags": []
          },
          "execution_count": 13
        }
      ]
    },
    {
      "cell_type": "code",
      "metadata": {
        "id": "HXvf64ln6J0U",
        "colab": {
          "base_uri": "https://localhost:8080/"
        },
        "outputId": "d31a2d99-53da-41a8-92ec-709590a1cb5d"
      },
      "source": [
        "t1"
      ],
      "execution_count": null,
      "outputs": [
        {
          "output_type": "execute_result",
          "data": {
            "text/plain": [
              "tensor([[ 0.,  2.,  4.],\n",
              "        [ 6.,  8., 10.],\n",
              "        [12., 14., 16.]], dtype=torch.float64)"
            ]
          },
          "metadata": {
            "tags": []
          },
          "execution_count": 14
        }
      ]
    },
    {
      "cell_type": "code",
      "metadata": {
        "id": "IAtONq2K6J3O",
        "colab": {
          "base_uri": "https://localhost:8080/"
        },
        "outputId": "b43f63e0-3acd-4da7-d730-6b9a3f44242f"
      },
      "source": [
        "t2"
      ],
      "execution_count": null,
      "outputs": [
        {
          "output_type": "execute_result",
          "data": {
            "text/plain": [
              "tensor([[ 0.,  2.,  4.,  6.,  8., 10., 12., 14., 16.]], dtype=torch.float64)"
            ]
          },
          "metadata": {
            "tags": []
          },
          "execution_count": 15
        }
      ]
    },
    {
      "cell_type": "code",
      "metadata": {
        "id": "TWsT6FkO6J5h",
        "colab": {
          "base_uri": "https://localhost:8080/"
        },
        "outputId": "dcf1198c-702e-4f9c-f7cf-d3b6db7c0550"
      },
      "source": [
        "t1.storage()"
      ],
      "execution_count": null,
      "outputs": [
        {
          "output_type": "execute_result",
          "data": {
            "text/plain": [
              " 0.0\n",
              " 2.0\n",
              " 4.0\n",
              " 6.0\n",
              " 8.0\n",
              " 10.0\n",
              " 12.0\n",
              " 14.0\n",
              " 16.0\n",
              "[torch.DoubleStorage of size 9]"
            ]
          },
          "metadata": {
            "tags": []
          },
          "execution_count": 16
        }
      ]
    },
    {
      "cell_type": "code",
      "metadata": {
        "id": "K5UWsHyY6TtU",
        "colab": {
          "base_uri": "https://localhost:8080/"
        },
        "outputId": "ca2a5c42-f72b-4f72-e81c-c6e160db8946"
      },
      "source": [
        "t1.storage().data_ptr()"
      ],
      "execution_count": null,
      "outputs": [
        {
          "output_type": "execute_result",
          "data": {
            "text/plain": [
              "94084183236224"
            ]
          },
          "metadata": {
            "tags": []
          },
          "execution_count": 17
        }
      ]
    },
    {
      "cell_type": "code",
      "metadata": {
        "id": "-eLTnouU6TwO",
        "colab": {
          "base_uri": "https://localhost:8080/"
        },
        "outputId": "9d1a349f-e7f2-4f0c-8eb0-2649e44c37e2"
      },
      "source": [
        "t2.storage().data_ptr()"
      ],
      "execution_count": null,
      "outputs": [
        {
          "output_type": "execute_result",
          "data": {
            "text/plain": [
              "94084183236224"
            ]
          },
          "metadata": {
            "tags": []
          },
          "execution_count": 18
        }
      ]
    },
    {
      "cell_type": "markdown",
      "metadata": {
        "id": "tRDDgqRcFfVE"
      },
      "source": [
        "If we can do everything in numpy too, then why do we even need PyTorch?\n",
        "\n",
        "- PyTorch can do everything on GPU too. (We will see this in detail towards the end. It is just a one step process)\n",
        "- PyTorch takes care of most of the things required for Deep Learning like back propagation, dataset handling, etc. in the background without much user intervention."
      ]
    },
    {
      "cell_type": "markdown",
      "metadata": {
        "id": "bdRapw6w027m"
      },
      "source": [
        "# How to train a model?\n",
        "\n",
        "Lets train and evaluate a classifier on [CIFAR-10](https://www.cs.toronto.edu/~kriz/cifar.html) dataset. \n",
        "\n",
        "First we will go over the steps very roughly. Don't try to understand every single but try and absorb the overall idea of what we are trying to do. Then a step by step explanation will be provided on what is happening.\n",
        "- Dataset Preparation\n",
        "- Define some Neural Network for training\n",
        "- Training Loop\n",
        "  - Forward Propagation\n",
        "  - Loss\n",
        "  - Backward Propagation\n",
        "  - Train and test accuracy\n",
        "- Save/Load a trained model\n",
        "- How to train on GPU?\n"
      ]
    },
    {
      "cell_type": "markdown",
      "metadata": {
        "id": "PAWu0k5nQCNt"
      },
      "source": [
        "## Rough Overview"
      ]
    },
    {
      "cell_type": "code",
      "metadata": {
        "id": "tO0RqY3CQEBZ"
      },
      "source": [
        "# Imports\n",
        "import torch\n",
        "import torchvision\n",
        "import torchvision.transforms as transforms\n",
        "import torch.nn as nn\n",
        "import torch.nn.functional as F\n",
        "import torch.optim as optim\n",
        "\n",
        "# Dataset Preparation\n",
        "transform = transforms.Compose(\n",
        "    [transforms.ToTensor(),\n",
        "     transforms.Normalize((0.5, 0.5, 0.5), (0.5, 0.5, 0.5))])\n",
        "\n",
        "trainset = torchvision.datasets.CIFAR10(root='./data', train=True,\n",
        "                                        download=True, transform=transform)\n",
        "trainloader = torch.utils.data.DataLoader(trainset, batch_size=4,\n",
        "                                          shuffle=True, num_workers=2)\n",
        "\n",
        "testset = torchvision.datasets.CIFAR10(root='./data', train=False,\n",
        "                                       download=True, transform=transform)\n",
        "testloader = torch.utils.data.DataLoader(testset, batch_size=4,\n",
        "                                         shuffle=False, num_workers=2)\n",
        "\n",
        "# Define some Neural Network for training\n",
        "class Net(nn.Module):\n",
        "    def __init__(self):\n",
        "        super(Net, self).__init__()\n",
        "        self.conv1 = nn.Conv2d(3, 6, 5)\n",
        "        self.pool = nn.MaxPool2d(2, 2)\n",
        "        self.conv2 = nn.Conv2d(6, 16, 5)\n",
        "        self.fc1 = nn.Linear(16 * 5 * 5, 120)\n",
        "        self.fc2 = nn.Linear(120, 84)\n",
        "        self.fc3 = nn.Linear(84, 10)\n",
        "\n",
        "    def forward(self, x):\n",
        "        x = self.pool(F.relu(self.conv1(x)))\n",
        "        x = self.pool(F.relu(self.conv2(x)))\n",
        "        x = x.view(-1, 16 * 5 * 5)\n",
        "        x = F.relu(self.fc1(x))\n",
        "        x = F.relu(self.fc2(x))\n",
        "        x = self.fc3(x)\n",
        "        return x\n",
        "\n",
        "net = Net()\n",
        "\n",
        "criterion = nn.CrossEntropyLoss()\n",
        "optimizer = optim.SGD(net.parameters(), lr=0.001, momentum=0.9)\n",
        "\n",
        "# Training Loop\n",
        "for epoch in range(2):  # loop over the dataset multiple times\n",
        "\n",
        "    running_loss = 0.0\n",
        "    for i, data in enumerate(trainloader, 0):\n",
        "        inputs, labels = data\n",
        "\n",
        "        optimizer.zero_grad()\n",
        "\n",
        "        # Forward Propagation\n",
        "        outputs = net(inputs)\n",
        "\n",
        "        # Loss\n",
        "        loss = criterion(outputs, labels)\n",
        "\n",
        "        # Backward Propagation\n",
        "        loss.backward()\n",
        "        \n",
        "        if i%2000 == 0:\n",
        "          print(f\"[{epoch}, {i}] Loss: {loss.item()}\")\n",
        "        \n",
        "        optimizer.step()\n",
        "\n",
        "print('Finished Training')\n",
        "\n",
        "# Train Accuracy\n",
        "correct = 0\n",
        "total = 0\n",
        "with torch.no_grad():\n",
        "    for data in trainloader:\n",
        "        images, labels = data\n",
        "        outputs = net(images)\n",
        "        _, predicted = torch.max(outputs.data, 1)\n",
        "        total += labels.size(0)\n",
        "        correct += (predicted == labels).sum().item()\n",
        "print(f\"Train Accuracy: {100*(correct/total)}\")\n",
        "\n",
        "# Test Accuracy\n",
        "correct = 0\n",
        "total = 0\n",
        "with torch.no_grad():\n",
        "    for data in testloader:\n",
        "        images, labels = data\n",
        "        outputs = net(images)\n",
        "        _, predicted = torch.max(outputs.data, 1)\n",
        "        total += labels.size(0)\n",
        "        correct += (predicted == labels).sum().item()\n",
        "print(f\"Test Accuracy: {100*(correct/total)}\")\n",
        "\n",
        "torch.save(net, \"trained_model.pt\")\n",
        "print(\"Model saved!\")\n",
        "\n",
        "trained_network = torch.load(\"trained_model.pt\")\n",
        "print(\"Model Loaded!\")"
      ],
      "execution_count": null,
      "outputs": []
    },
    {
      "cell_type": "markdown",
      "metadata": {
        "id": "tcGDpBUzW_n3"
      },
      "source": [
        "That must have taken alot of time to train. So, before we get into the step by step explanation, lets see what to change in the above code to **run everything on GPU**!\n",
        "\n",
        "- Click on **Runtime** -> **Change runtume type** -> **Hardward accelerator** -> **GPU**\n",
        "- Change `net = Net()` to `net = Net().cuda()`\n",
        "- Below `inputs, labels = data` in the training loop add another line `inputs, labels = inputs.cuda(), labels.cuda()`.\n",
        "- Below `images, labels = data` in the train/test accuracy step add another line `inputs, labels = inputs.cuda(), labels.cuda()`.\n"
      ]
    },
    {
      "cell_type": "markdown",
      "metadata": {
        "id": "n3-HYQcIP1o2"
      },
      "source": [
        "## Step by step explanation\n",
        "Now that we have an overall idea of what is happening, lets try to understand everything one step at a time.\n"
      ]
    },
    {
      "cell_type": "markdown",
      "metadata": {
        "id": "dD1MJM3VWPxJ"
      },
      "source": [
        "### Imports"
      ]
    },
    {
      "cell_type": "code",
      "metadata": {
        "id": "bh5au4bJVY0M"
      },
      "source": [
        "import torch\n",
        "import torchvision\n",
        "import torchvision.transforms as transforms\n",
        "import torch.nn as nn\n",
        "import torch.nn.functional as F\n",
        "import torch.optim as optim"
      ],
      "execution_count": null,
      "outputs": []
    },
    {
      "cell_type": "markdown",
      "metadata": {
        "id": "O8bTXDLpWMDh"
      },
      "source": [
        "### Dataset Preparation"
      ]
    },
    {
      "cell_type": "code",
      "metadata": {
        "id": "L_4_AHhkVfcc",
        "colab": {
          "base_uri": "https://localhost:8080/",
          "height": 101,
          "referenced_widgets": [
            "794a8642929c454d912b74b2127412eb",
            "850adb260dff45b2986707b5b9d8409a",
            "b653735c490841918e947d4954dabcb3",
            "6ef9224f7b0746ee9c96aea99bf649ed",
            "f13fc83990e543c08333d2a3ab076dbf",
            "38d35bdccea34ff08427ee40dea42952",
            "5b3075f560e745829168a16310ac38e9",
            "f8735d021d0143158607d06d1ee13976"
          ]
        },
        "outputId": "911649c2-3587-4318-dedb-8e5bfdc534d1"
      },
      "source": [
        "transform = transforms.Compose(\n",
        "    [transforms.ToTensor(),\n",
        "     transforms.Normalize((0.5, 0.5, 0.5), (0.5, 0.5, 0.5))])\n",
        "\n",
        "trainset = torchvision.datasets.CIFAR10(root='./data', train=True,\n",
        "                                        download=True, transform=transform)\n",
        "trainloader = torch.utils.data.DataLoader(trainset, batch_size=4,\n",
        "                                          shuffle=True, num_workers=2)\n",
        "\n",
        "testset = torchvision.datasets.CIFAR10(root='./data', train=False,\n",
        "                                       download=True, transform=transform)\n",
        "testloader = torch.utils.data.DataLoader(testset, batch_size=4,\n",
        "                                         shuffle=False, num_workers=2)"
      ],
      "execution_count": null,
      "outputs": [
        {
          "output_type": "stream",
          "text": [
            "Downloading https://www.cs.toronto.edu/~kriz/cifar-10-python.tar.gz to ./data/cifar-10-python.tar.gz\n"
          ],
          "name": "stdout"
        },
        {
          "output_type": "display_data",
          "data": {
            "application/vnd.jupyter.widget-view+json": {
              "model_id": "794a8642929c454d912b74b2127412eb",
              "version_minor": 0,
              "version_major": 2
            },
            "text/plain": [
              "HBox(children=(FloatProgress(value=1.0, bar_style='info', max=1.0), HTML(value='')))"
            ]
          },
          "metadata": {
            "tags": []
          }
        },
        {
          "output_type": "stream",
          "text": [
            "Extracting ./data/cifar-10-python.tar.gz to ./data\n",
            "Files already downloaded and verified\n"
          ],
          "name": "stdout"
        }
      ]
    },
    {
      "cell_type": "markdown",
      "metadata": {
        "id": "XCC0zo6pWU1g"
      },
      "source": [
        "### Define some Neural Network for training"
      ]
    },
    {
      "cell_type": "code",
      "metadata": {
        "id": "Jjv7batXVkXH"
      },
      "source": [
        "class Net(nn.Module):\n",
        "    def __init__(self):\n",
        "        super(Net, self).__init__()\n",
        "        self.conv1 = nn.Conv2d(3, 6, 5)\n",
        "        self.pool = nn.MaxPool2d(2, 2)\n",
        "        self.conv2 = nn.Conv2d(6, 16, 5)\n",
        "        self.fc1 = nn.Linear(16 * 5 * 5, 120)\n",
        "        self.fc2 = nn.Linear(120, 84)\n",
        "        self.fc3 = nn.Linear(84, 10)\n",
        "\n",
        "    def forward(self, x):\n",
        "        x = self.pool(F.relu(self.conv1(x)))\n",
        "        x = self.pool(F.relu(self.conv2(x)))\n",
        "        x = x.view(-1, 16 * 5 * 5)\n",
        "        x = F.relu(self.fc1(x))\n",
        "        x = F.relu(self.fc2(x))\n",
        "        x = self.fc3(x)\n",
        "        return x\n",
        "\n",
        "net = Net().cuda()"
      ],
      "execution_count": null,
      "outputs": []
    },
    {
      "cell_type": "code",
      "metadata": {
        "id": "S1jMuovrVsvs"
      },
      "source": [
        "criterion = nn.CrossEntropyLoss()\n",
        "optimizer = optim.SGD(net.parameters(), lr=0.001, momentum=0.9)"
      ],
      "execution_count": null,
      "outputs": []
    },
    {
      "cell_type": "markdown",
      "metadata": {
        "id": "w-wIaVoGWYQj"
      },
      "source": [
        "### Training Loop"
      ]
    },
    {
      "cell_type": "code",
      "metadata": {
        "id": "liAYY5SRVwSJ",
        "colab": {
          "base_uri": "https://localhost:8080/"
        },
        "outputId": "b5bfc52a-153b-419b-d54b-41edb80313c0"
      },
      "source": [
        "for epoch in range(2):  # loop over the dataset multiple times\n",
        "    running_loss = 0.0\n",
        "    for i, data in enumerate(trainloader, 0): # loop over the mini-batches of data \n",
        "        inputs, labels = data\n",
        "        inputs, labels = inputs.cuda(), labels.cuda()\n",
        "\n",
        "        optimizer.zero_grad()\n",
        "\n",
        "        # Forward Propagation\n",
        "        outputs = net(inputs)\n",
        "\n",
        "        # Loss\n",
        "        loss = criterion(outputs, labels)\n",
        "\n",
        "        # Backward Propagation\n",
        "        loss.backward()\n",
        "        if i%2000 == 0:\n",
        "          print(f\"[{epoch}, {i}] Loss: {loss.item()}\")\n",
        "        \n",
        "        optimizer.step()\n",
        "\n",
        "print('Finished Training')"
      ],
      "execution_count": null,
      "outputs": [
        {
          "output_type": "stream",
          "text": [
            "[0, 0] Loss: 2.330172300338745\n",
            "[0, 2000] Loss: 2.200355052947998\n",
            "[0, 4000] Loss: 1.5364435911178589\n",
            "[0, 6000] Loss: 1.9352993965148926\n",
            "[0, 8000] Loss: 2.05306077003479\n",
            "[0, 10000] Loss: 0.6619178056716919\n",
            "[0, 12000] Loss: 2.002880573272705\n",
            "[1, 0] Loss: 2.3936924934387207\n",
            "[1, 2000] Loss: 0.9825661182403564\n",
            "[1, 4000] Loss: 1.2533040046691895\n",
            "[1, 6000] Loss: 0.5188676118850708\n",
            "[1, 8000] Loss: 1.3815442323684692\n",
            "[1, 10000] Loss: 1.061977505683899\n",
            "[1, 12000] Loss: 1.1666178703308105\n",
            "Finished Training\n"
          ],
          "name": "stdout"
        }
      ]
    },
    {
      "cell_type": "markdown",
      "metadata": {
        "id": "hKrD9a8wWcQO"
      },
      "source": [
        "### Train/Test Accuracy"
      ]
    },
    {
      "cell_type": "code",
      "metadata": {
        "id": "wTNqNw4-V02y",
        "colab": {
          "base_uri": "https://localhost:8080/"
        },
        "outputId": "2b0c4004-d028-4d61-d20c-641dfda28a70"
      },
      "source": [
        "# Train Accuracy\n",
        "correct = 0\n",
        "total = 0\n",
        "with torch.no_grad():\n",
        "    for data in trainloader:\n",
        "        images, labels = data\n",
        "        images, labels = images.cuda(), labels.cuda()\n",
        "        outputs = net(images)\n",
        "        _, predicted = torch.max(outputs.data, 1)\n",
        "        total += labels.size(0)\n",
        "        correct += (predicted == labels).sum().item()\n",
        "print(f\"Train Accuracy: {100*(correct/total)}\")\n",
        "\n",
        "# Test Accuracy\n",
        "correct = 0\n",
        "total = 0\n",
        "with torch.no_grad():\n",
        "    for data in testloader:\n",
        "        images, labels = data\n",
        "        images, labels = images.cuda(), labels.cuda()\n",
        "        outputs = net(images)\n",
        "        _, predicted = torch.max(outputs.data, 1)\n",
        "        total += labels.size(0)\n",
        "        correct += (predicted == labels).sum().item()\n",
        "print(f\"Test Accuracy: {100*(correct/total)}\")"
      ],
      "execution_count": null,
      "outputs": [
        {
          "output_type": "stream",
          "text": [
            "Train Accuracy: 57.084\n",
            "Test Accuracy: 55.81\n"
          ],
          "name": "stdout"
        }
      ]
    },
    {
      "cell_type": "markdown",
      "metadata": {
        "id": "cECUyI-NWhSg"
      },
      "source": [
        "### Save/Load a trained model"
      ]
    },
    {
      "cell_type": "code",
      "metadata": {
        "id": "iD_5PfukV5Jm",
        "colab": {
          "base_uri": "https://localhost:8080/"
        },
        "outputId": "7d4206e4-5c8b-4474-fced-48d395c36787"
      },
      "source": [
        "torch.save(net, \"trained_model.pt\")\n",
        "print(\"Model saved!\")\n",
        "\n",
        "trained_network = torch.load(\"trained_model.pt\")\n",
        "print(\"Model Loaded!\")"
      ],
      "execution_count": null,
      "outputs": [
        {
          "output_type": "stream",
          "text": [
            "Model saved!\n",
            "Model Loaded!\n"
          ],
          "name": "stdout"
        }
      ]
    },
    {
      "cell_type": "markdown",
      "metadata": {
        "id": "Eq6UHLIr1W2v"
      },
      "source": [
        "# Things to keep in mind\n",
        "- Boiler Plate Code - https://github.com/victoresque/pytorch-template\n",
        "- PyTorch Community - https://discuss.pytorch.org/\n",
        "- Reproducibility Challenge - https://paperswithcode.com/rc2020\n",
        "- Nice article: [A Recipe for Training Neural Networks by Andrej Karpathy](http://karpathy.github.io/2019/04/25/recipe/)\n",
        "\n"
      ]
    }
  ]
}