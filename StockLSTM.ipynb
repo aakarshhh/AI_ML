{
  "nbformat": 4,
  "nbformat_minor": 0,
  "metadata": {
    "colab": {
      "name": "StockLSTM",
      "provenance": [],
      "collapsed_sections": [],
      "authorship_tag": "ABX9TyPpo2Dmmd/QhGY+bgcUbW3h",
      "include_colab_link": true
    },
    "kernelspec": {
      "name": "python3",
      "display_name": "Python 3"
    },
    "language_info": {
      "name": "python"
    }
  },
  "cells": [
    {
      "cell_type": "markdown",
      "metadata": {
        "id": "view-in-github",
        "colab_type": "text"
      },
      "source": [
        "<a href=\"https://colab.research.google.com/github/aakarshhh/AI_ML/blob/main/StockLSTM.ipynb\" target=\"_parent\"><img src=\"https://colab.research.google.com/assets/colab-badge.svg\" alt=\"Open In Colab\"/></a>"
      ]
    },
    {
      "cell_type": "code",
      "metadata": {
        "colab": {
          "base_uri": "https://localhost:8080/"
        },
        "id": "hHEGU4egVJNR",
        "outputId": "b5586dfc-eb1f-49ef-9be6-bd9d3edb5c23"
      },
      "source": [
        "pip install yfinance "
      ],
      "execution_count": 21,
      "outputs": [
        {
          "output_type": "stream",
          "text": [
            "Requirement already satisfied: yfinance in /usr/local/lib/python3.7/dist-packages (0.1.55)\n",
            "Requirement already satisfied: requests>=2.20 in /usr/local/lib/python3.7/dist-packages (from yfinance) (2.23.0)\n",
            "Requirement already satisfied: pandas>=0.24 in /usr/local/lib/python3.7/dist-packages (from yfinance) (1.1.5)\n",
            "Requirement already satisfied: multitasking>=0.0.7 in /usr/local/lib/python3.7/dist-packages (from yfinance) (0.0.9)\n",
            "Requirement already satisfied: lxml>=4.5.1 in /usr/local/lib/python3.7/dist-packages (from yfinance) (4.6.3)\n",
            "Requirement already satisfied: numpy>=1.15 in /usr/local/lib/python3.7/dist-packages (from yfinance) (1.19.5)\n",
            "Requirement already satisfied: idna<3,>=2.5 in /usr/local/lib/python3.7/dist-packages (from requests>=2.20->yfinance) (2.10)\n",
            "Requirement already satisfied: urllib3!=1.25.0,!=1.25.1,<1.26,>=1.21.1 in /usr/local/lib/python3.7/dist-packages (from requests>=2.20->yfinance) (1.24.3)\n",
            "Requirement already satisfied: chardet<4,>=3.0.2 in /usr/local/lib/python3.7/dist-packages (from requests>=2.20->yfinance) (3.0.4)\n",
            "Requirement already satisfied: certifi>=2017.4.17 in /usr/local/lib/python3.7/dist-packages (from requests>=2.20->yfinance) (2020.12.5)\n",
            "Requirement already satisfied: pytz>=2017.2 in /usr/local/lib/python3.7/dist-packages (from pandas>=0.24->yfinance) (2018.9)\n",
            "Requirement already satisfied: python-dateutil>=2.7.3 in /usr/local/lib/python3.7/dist-packages (from pandas>=0.24->yfinance) (2.8.1)\n",
            "Requirement already satisfied: six>=1.5 in /usr/local/lib/python3.7/dist-packages (from python-dateutil>=2.7.3->pandas>=0.24->yfinance) (1.15.0)\n"
          ],
          "name": "stdout"
        }
      ]
    },
    {
      "cell_type": "code",
      "metadata": {
        "id": "oT_fitvkqou3"
      },
      "source": [
        "import numpy as np\n",
        "import pandas as pd\n",
        "import matplotlib.pyplot as plt\n",
        "import pandas_datareader as dr\n",
        "import datetime as dt \n",
        "import yfinance as yf\n",
        "from sklearn.preprocessing import MinMaxScaler\n",
        "import tensorflow as tf\n",
        "from tensorflow.keras import Sequential \n",
        "from tensorflow.keras.layers import  Dense , Dropout ,LSTM ,BatchNormalization"
      ],
      "execution_count": 22,
      "outputs": []
    },
    {
      "cell_type": "code",
      "metadata": {
        "id": "uThvO_fZxXFB"
      },
      "source": [
        "company = 'INFY'\n",
        "ep = 31"
      ],
      "execution_count": 23,
      "outputs": []
    },
    {
      "cell_type": "code",
      "metadata": {
        "id": "wesnmOOWxXR_",
        "colab": {
          "base_uri": "https://localhost:8080/"
        },
        "outputId": "eb67be8f-0446-496e-d03a-c9ad2d13cf38"
      },
      "source": [
        "sc = MinMaxScaler(feature_range=(0,1))\n",
        "pred_days = 45\n",
        "\n",
        "one_day = 192 #timestamps\n",
        "c = 'MSFT INFY RELIANCE '\n",
        "start = dt.datetime(2006,1,1)\n",
        "end = dt.datetime(2021,1,1)\n",
        "\n",
        "data = yf.download(\n",
        "        tickers = f'{c}',\n",
        "        start =start, end=end,\n",
        "        group_by = 'ticker',\n",
        "        auto_adjust = True,\n",
        "        prepost = True)\n",
        "company = 'INFY'\n",
        "\n",
        "data = pd.DataFrame(data)\n",
        "data = data[ f'{company}' ]\n",
        "sdata =sc.fit_transform(data['Close'].values.reshape(-1,1))\n",
        "\n",
        "x_train=[]\n",
        "y_train=[]\n",
        "for x in range(pred_days,len(data)):\n",
        "  x_train.append(sdata[x-pred_days :x ])\n",
        "  y_train.append(sdata[x])\n",
        "x_train,y_train =np.array(x_train),np.array(y_train)\n"
      ],
      "execution_count": 24,
      "outputs": [
        {
          "output_type": "stream",
          "text": [
            "[*********************100%***********************]  3 of 3 completed\n",
            "\n",
            "1 Failed download:\n",
            "- RELIANCE: No data found, symbol may be delisted\n"
          ],
          "name": "stdout"
        }
      ]
    },
    {
      "cell_type": "code",
      "metadata": {
        "colab": {
          "base_uri": "https://localhost:8080/"
        },
        "id": "F57qqsT7xXaX",
        "outputId": "87d3801e-b4d2-4ff3-9f77-c000a6b22236"
      },
      "source": [
        "x_train= np.reshape(x_train,(x_train.shape[0],x_train.shape[1],1))\n",
        "x_train.shape,y_train.shape"
      ],
      "execution_count": 25,
      "outputs": [
        {
          "output_type": "execute_result",
          "data": {
            "text/plain": [
              "((3731, 45, 1), (3731, 1))"
            ]
          },
          "metadata": {
            "tags": []
          },
          "execution_count": 25
        }
      ]
    },
    {
      "cell_type": "code",
      "metadata": {
        "id": "cyGJ5OhixXi5"
      },
      "source": [
        "model= Sequential()\n",
        "\n",
        "model.add(LSTM( units = 32 , return_sequences=True,input_shape=x_train[0].shape , recurrent_dropout=0.2))\n",
        "model.add(LSTM(units = 64 ,return_sequences=True , recurrent_dropout=0.2))\n",
        "model.add(LSTM(units =64  , recurrent_dropout=0.15))\n",
        "model.add(Dense(8, activation='relu'))\n",
        "model.add(Dense(units = 1))\n",
        "\n",
        "model.compile(loss = 'mse' , optimizer = 'adam' )"
      ],
      "execution_count": 26,
      "outputs": []
    },
    {
      "cell_type": "code",
      "metadata": {
        "colab": {
          "base_uri": "https://localhost:8080/"
        },
        "id": "lhJ4X1NFxXpo",
        "outputId": "3fd1a958-d032-4fb0-c55d-4ba929252ae7"
      },
      "source": [
        "model.fit(x_train,y_train, epochs=ep , batch_size = 32 , verbose=2 )"
      ],
      "execution_count": 27,
      "outputs": [
        {
          "output_type": "stream",
          "text": [
            "Epoch 1/31\n",
            "117/117 - 21s - loss: 0.0096\n",
            "Epoch 2/31\n",
            "117/117 - 15s - loss: 8.3796e-04\n",
            "Epoch 3/31\n",
            "117/117 - 15s - loss: 6.9849e-04\n",
            "Epoch 4/31\n",
            "117/117 - 15s - loss: 6.5369e-04\n",
            "Epoch 5/31\n",
            "117/117 - 15s - loss: 6.4383e-04\n",
            "Epoch 6/31\n",
            "117/117 - 15s - loss: 5.4707e-04\n",
            "Epoch 7/31\n",
            "117/117 - 15s - loss: 5.7372e-04\n",
            "Epoch 8/31\n",
            "117/117 - 15s - loss: 4.4365e-04\n",
            "Epoch 9/31\n",
            "117/117 - 15s - loss: 4.4394e-04\n",
            "Epoch 10/31\n",
            "117/117 - 15s - loss: 4.2827e-04\n",
            "Epoch 11/31\n",
            "117/117 - 15s - loss: 3.8554e-04\n",
            "Epoch 12/31\n",
            "117/117 - 16s - loss: 3.8348e-04\n",
            "Epoch 13/31\n",
            "117/117 - 15s - loss: 3.5308e-04\n",
            "Epoch 14/31\n",
            "117/117 - 15s - loss: 3.7652e-04\n",
            "Epoch 15/31\n",
            "117/117 - 15s - loss: 3.2756e-04\n",
            "Epoch 16/31\n",
            "117/117 - 15s - loss: 3.8741e-04\n",
            "Epoch 17/31\n",
            "117/117 - 15s - loss: 3.0889e-04\n",
            "Epoch 18/31\n",
            "117/117 - 16s - loss: 3.0170e-04\n",
            "Epoch 19/31\n",
            "117/117 - 16s - loss: 3.1638e-04\n",
            "Epoch 20/31\n",
            "117/117 - 16s - loss: 2.9227e-04\n",
            "Epoch 21/31\n",
            "117/117 - 16s - loss: 2.9057e-04\n",
            "Epoch 22/31\n",
            "117/117 - 16s - loss: 2.9358e-04\n",
            "Epoch 23/31\n",
            "117/117 - 16s - loss: 2.8449e-04\n",
            "Epoch 24/31\n",
            "117/117 - 16s - loss: 3.0897e-04\n",
            "Epoch 25/31\n",
            "117/117 - 16s - loss: 2.6968e-04\n",
            "Epoch 26/31\n",
            "117/117 - 16s - loss: 2.5689e-04\n",
            "Epoch 27/31\n",
            "117/117 - 15s - loss: 3.0522e-04\n",
            "Epoch 28/31\n",
            "117/117 - 15s - loss: 2.5553e-04\n",
            "Epoch 29/31\n",
            "117/117 - 16s - loss: 2.7599e-04\n",
            "Epoch 30/31\n",
            "117/117 - 15s - loss: 2.5326e-04\n",
            "Epoch 31/31\n",
            "117/117 - 15s - loss: 2.4954e-04\n"
          ],
          "name": "stdout"
        },
        {
          "output_type": "execute_result",
          "data": {
            "text/plain": [
              "<tensorflow.python.keras.callbacks.History at 0x7f99bfb14410>"
            ]
          },
          "metadata": {
            "tags": []
          },
          "execution_count": 27
        }
      ]
    },
    {
      "cell_type": "code",
      "metadata": {
        "id": "Gqvk8m1RA_Mw",
        "colab": {
          "base_uri": "https://localhost:8080/"
        },
        "outputId": "d24158c3-0ac4-48be-ad56-def6fba3400c"
      },
      "source": [
        "test_start = dt.datetime(2020,1,1)\n",
        "test_end=  dt.datetime.now()\n",
        "one_day = 192 #timestamps\n",
        "c = 'MSFT INFY RELIANCE'\n",
        "start = dt.datetime(2006,1,1)\n",
        "end = dt.datetime(2021,1,1)\n",
        "tdata = yf.download(\n",
        "        tickers = f'{c}',\n",
        "        start =test_start, test_end=end,\n",
        "        group_by = 'ticker',\n",
        "        auto_adjust = True,\n",
        "        prepost = True)\n",
        "\n",
        "company = 'INFY'\n",
        "tdata = pd.DataFrame(tdata)\n",
        "tdata = tdata[ f'{company}' ]\n",
        "\n",
        "dtst = pd.concat((data['Close'],tdata['Close']),axis=0)\n",
        "\n",
        "y_test=tdata['Close'].values\n",
        "\n",
        "dtst = dtst[len(dtst)-len(tdata)-pred_days:].values.reshape(-1,1)\n",
        "dtst =sc.transform(dtst) \n",
        "x_test=[]\n",
        "\n",
        "#x_test.append( data[-pred_days :] )\n",
        "for x in range(pred_days ,len(dtst)):\n",
        "  x_test.append(dtst[x-pred_days:x ])\n",
        "\n",
        "x_test , y_test =np.array(x_test),np.array(y_test)"
      ],
      "execution_count": 28,
      "outputs": [
        {
          "output_type": "stream",
          "text": [
            "[*********************100%***********************]  3 of 3 completed\n",
            "\n",
            "1 Failed download:\n",
            "- RELIANCE: No data found, symbol may be delisted\n"
          ],
          "name": "stdout"
        }
      ]
    },
    {
      "cell_type": "code",
      "metadata": {
        "colab": {
          "base_uri": "https://localhost:8080/"
        },
        "id": "H7zvgLA_CxdC",
        "outputId": "a34ca36f-3a1e-4e69-e0bc-a0a44b482f2d"
      },
      "source": [
        "x_test= np.reshape(x_test,(x_test.shape[0],x_test.shape[1],1))\n",
        "x_test.shape, y_test.shape"
      ],
      "execution_count": 29,
      "outputs": [
        {
          "output_type": "execute_result",
          "data": {
            "text/plain": [
              "((308, 45, 1), (308,))"
            ]
          },
          "metadata": {
            "tags": []
          },
          "execution_count": 29
        }
      ]
    },
    {
      "cell_type": "code",
      "metadata": {
        "id": "pbBKg1-yXv_x"
      },
      "source": [
        "preds=model.predict(x_test)\n",
        "preds = sc.inverse_transform(preds)"
      ],
      "execution_count": 30,
      "outputs": []
    },
    {
      "cell_type": "code",
      "metadata": {
        "colab": {
          "base_uri": "https://localhost:8080/",
          "height": 265
        },
        "id": "aM3nmkOlSbXI",
        "outputId": "763eccc3-8b23-46c0-c311-6bd8d8728164"
      },
      "source": [
        "plt.plot(y_test[5:],color=\"black\",label = \"Actual Data\")\n",
        "plt.plot(preds[5:] , color=\"green\",label = \"Predicted Data\")\n",
        "plt.legend() \n",
        "plt.show()"
      ],
      "execution_count": 31,
      "outputs": [
        {
          "output_type": "display_data",
          "data": {
            "image/png": "[encoded data removed]",
            "text/plain": [
              "<Figure size 432x288 with 1 Axes>"
            ]
          },
          "metadata": {
            "tags": [],
            "needs_background": "light"
          }
        }
      ]
    },
    {
      "cell_type": "code",
      "metadata": {
        "id": "kFlaCCep8n4c"
      },
      "source": [
        "a = model.get_weights()"
      ],
      "execution_count": 32,
      "outputs": []
    }
  ]
}